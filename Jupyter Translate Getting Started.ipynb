{
 "cells": [
  {
   "cell_type": "markdown",
   "metadata": {
    "collapsed": true
   },
   "source": [
    "# Jupyter Translate getting started\n",
    "\n",
    "This notebook is a part of [Jupyter Translate](https://github.com/kiidax/jupyter-translate)\n",
    "to show how it can help your translation of [Jupyter Notebook](https://jupyter.org/). Jupyter Translation uses\n",
    "[Microsoft Translator Text API](https://www.microsoft.com/en-us/translator/translatorapi.aspx)\n",
    "to translate Jupyter notebooks. Jupyter Translation keeps the original text so that it can re-translate after the notebook\n",
    "is modified manually."
   ]
  },
  {
   "cell_type": "markdown",
   "metadata": {},
   "source": [
    "To use Jupyter Translation, you need your authentication key for Translator Text API from Microsoft Azure. They explain how you can get authentication key [here](https://www.microsoft.com/en-us/translator/getstarted.aspx). \n",
    "\n",
    "This is an added text."
   ]
  },
  {
   "cell_type": "markdown",
   "metadata": {},
   "source": [
    "You can invoke Jupyter Translate from the command line using Python 3. Type\n",
    "\n",
    "```\n",
    "$ python jupyter_translate.py --help\n",
    "```\n",
    "\n",
    "to show the help of command line arguments. Jupyter Translate reads authentication key from file `bing.key`\n",
    "in the current directory by default. The file just contains key and nothing else."
   ]
  },
  {
   "cell_type": "markdown",
   "metadata": {},
   "source": [
    "## Making parallel documents\n",
    "\n",
    "If you want to modify the machine translated text, it is often easier to keep the original texts near the translated ones.\n",
    "`--preserve` option keep the original text and add machine translated text after that. Type\n",
    "\n",
    "```\n",
    "$ mkdir \n",
    "$ python jupyter_translate.py --to-lang ja --preserve examples\n",
    "```\n",
    "\n",
    "This translates all Jupyter notebooks in `examples` directory and creates new files with `_ja` appended to the file names.\n",
    "The created files can be opened with Jupyter Notebook like the original ones.\n",
    "\n",
    "![Parallel text](img/ParallelTexts.png)"
   ]
  },
  {
   "cell_type": "markdown",
   "metadata": {},
   "source": [
    "## Modifing the translated notebook\n",
    "\n",
    "Every translated text has _unchecked_ at the beginning of the text. This tells the tool that the text hasn't been\n",
    "manually modified by humans and it can be replaced with the translated text when the tool is run again.\n",
    "\n",
    "Let's remove _unchecked_ from the second cell in the translated notebook,\n",
    "the one translated from the first cell, then modify the translated text\n",
    "a bit. Here, \"Jupyter 翻訳\" should not be transtated as it is the name of the tool itself.\n",
    "\n",
    "You can remove the first cell if you want. The translated cells remember the original texts in the metadata so that\n",
    "the tool can use them when the tool is run again."
   ]
  },
  {
   "cell_type": "markdown",
   "metadata": {},
   "source": [
    "## Modifying the original notebook\n",
    "\n",
    "You can also modify the original notebook. Let's add something like, \"This is an added text.\" at the end of the second\n",
    "cell in the original notebook, which it starts with \"To use Jupyter...\"."
   ]
  },
  {
   "cell_type": "markdown",
   "metadata": {},
   "source": [
    "## Update the translated notebook"
   ]
  },
  {
   "cell_type": "markdown",
   "metadata": {},
   "source": [
    "Type\n",
    "\n",
    "```\n",
    "$ python jupyter_translate.py --update --to-lang ja examples\n",
    "```"
   ]
  }
 ],
 "metadata": {
  "kernelspec": {
   "display_name": "Python 3",
   "language": "python",
   "name": "python3"
  },
  "language_info": {
   "codemirror_mode": {
    "name": "ipython",
    "version": 3
   },
   "file_extension": ".py",
   "mimetype": "text/x-python",
   "name": "python",
   "nbconvert_exporter": "python",
   "pygments_lexer": "ipython3",
   "version": "3.6.3"
  }
 },
 "nbformat": 4,
 "nbformat_minor": 2
}
